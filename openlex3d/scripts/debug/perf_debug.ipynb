{
 "cells": [
  {
   "cell_type": "code",
   "execution_count": 3,
   "metadata": {},
   "outputs": [],
   "source": [
    "from pathlib import Path\n",
    "import numpy as np\n",
    "import torch\n",
    "import pickle"
   ]
  },
  {
   "cell_type": "code",
   "execution_count": 4,
   "metadata": {},
   "outputs": [],
   "source": [
    "openmask3d_matches_path = \"/home/kumaraditya/openlex3d/query_experiments_perf_debug_v2/viz/replica/room0/openmask3d_nms_0.5_duplicated_per_mask_0.002_top_k_0.5_20\"\n",
    "cg_matches_path = \"/home/kumaraditya/openlex3d/query_experiments_perf_debug_v2/viz/replica/room0/concept-graphs_global_0.01_top_k_0.5_20\"\n",
    "openmask3d_ranks_path = \"/home/kumaraditya/openlex3d/query_experiments_perf_debug_v2/rank_metric/replica/openmask3d_nms_0.5_duplicated_per_mask_0.002_20_0.25\"\n",
    "cg_ranks_path = \"/home/kumaraditya/openlex3d/query_experiments_perf_debug_v2/rank_metric/replica/concept-graphs_global_0.01_20_0.25\""
   ]
  },
  {
   "cell_type": "code",
   "execution_count": 5,
   "metadata": {},
   "outputs": [],
   "source": [
    "openmask3d_matches_path = Path(openmask3d_matches_path)\n",
    "cg_matches_path = Path(cg_matches_path)\n",
    "openmask3d_ranks_path = Path(openmask3d_ranks_path)\n",
    "cg_ranks_path = Path(cg_ranks_path)"
   ]
  },
  {
   "cell_type": "code",
   "execution_count": 6,
   "metadata": {},
   "outputs": [],
   "source": [
    "openmask3d_matches = pickle.load(open(openmask3d_matches_path / \"matches.pkl\", \"rb\"))\n",
    "cg_matches = pickle.load(open(cg_matches_path / \"matches.pkl\", \"rb\"))\n",
    "openmask3d_ranks = pickle.load(open(openmask3d_ranks_path / \"query_ranks.pkl\", \"rb\"))\n",
    "cg_ranks = pickle.load(open(cg_ranks_path / \"query_ranks.pkl\", \"rb\"))"
   ]
  },
  {
   "cell_type": "code",
   "execution_count": 12,
   "metadata": {},
   "outputs": [],
   "source": [
    "scene = \"room0\""
   ]
  },
  {
   "cell_type": "code",
   "execution_count": 13,
   "metadata": {},
   "outputs": [],
   "source": [
    "def get_pred_ids(matches, target_query):\n",
    "    unique_masks = set()\n",
    "    mask_indices_list = []  # Store all arrays\n",
    "    for pred in matches[scene][\"pred\"][\"object\"]:\n",
    "        query = pred[\"query_id\"].split(\"_\")[1]\n",
    "        if query != target_query:\n",
    "            continue\n",
    "        print(f'{pred[\"pred_id\"]}:{pred[\"rank\"]}')\n",
    "        mask_array = tuple(\n",
    "            sorted(pred[\"mask_indices\"])\n",
    "        )  # Convert to a tuple to make it hashable\n",
    "        mask_indices_list.append(mask_array)\n",
    "        unique_masks.add(mask_array)  # Add to set for uniqueness check\n",
    "    # Count unique arrays\n",
    "    num_unique_masks = len(unique_masks)\n",
    "    # Print results\n",
    "    print(f\"Total mask_indices arrays: {len(mask_indices_list)}\")\n",
    "    print(f\"Unique mask_indices arrays: {num_unique_masks}\")"
   ]
  },
  {
   "cell_type": "code",
   "execution_count": 14,
   "metadata": {},
   "outputs": [
    {
     "name": "stdout",
     "output_type": "stream",
     "text": [
      "15:1\n",
      "41:2\n",
      "69:3\n",
      "33:4\n",
      "62:5\n",
      "19:6\n",
      "60:7\n",
      "65:8\n",
      "0:9\n",
      "8:10\n",
      "14:11\n",
      "5:12\n",
      "44:13\n",
      "37:14\n",
      "58:15\n",
      "34:16\n",
      "9:17\n",
      "49:18\n",
      "68:19\n",
      "35:20\n",
      "Total mask_indices arrays: 20\n",
      "Unique mask_indices arrays: 20\n"
     ]
    }
   ],
   "source": [
    "get_pred_ids(openmask3d_matches, \"vase\")"
   ]
  },
  {
   "cell_type": "code",
   "execution_count": 24,
   "metadata": {},
   "outputs": [
    {
     "name": "stdout",
     "output_type": "stream",
     "text": [
      "39\n",
      "16\n",
      "107\n",
      "84\n",
      "['shades', 'carpet floor', 'grate', 'throw blanket', 'switch', 'grille', 'register vent', 'air vent', 'fluorescent lighting', 'grating', 'art', 'picture', 'tube light', 'flat panel light', 'fluorescent lamp', 'blanket', 'vent', 'panel lighting', 'throw', 'carpeted floor']\n"
     ]
    }
   ],
   "source": [
    "# print query_ids with only -1 ranks\n",
    "openmask3d_bad_queries = []\n",
    "for scene_id, query_data in openmask3d_ranks.items():\n",
    "    if scene_id != scene:\n",
    "        continue\n",
    "    for query_id, ranks in query_data.items():\n",
    "        if all(r == -1 for r in ranks):\n",
    "            query_text = query_id.split(\"_\")[1]\n",
    "            openmask3d_bad_queries.append(query_text)\n",
    "\n",
    "concept_graph_bad_queries = []\n",
    "for scene_id, query_data in cg_ranks.items():\n",
    "    if scene_id != scene:\n",
    "        continue\n",
    "    for query_id, ranks in query_data.items():\n",
    "        if all(r == -1 for r in ranks):\n",
    "            query_text = query_id.split(\"_\")[1]\n",
    "            concept_graph_bad_queries.append(query_text)\n",
    "\n",
    "# convert the list of strings to a set\n",
    "openmask3d_bad_queries = set(openmask3d_bad_queries)\n",
    "concept_graph_bad_queries = set(concept_graph_bad_queries)\n",
    "\n",
    "# print the queries that are bad for only openmask3d\n",
    "only_openmask_bad_queries = list(openmask3d_bad_queries - concept_graph_bad_queries)\n",
    "print(len(only_openmask_bad_queries))\n",
    "\n",
    "only_cg_bad_queries = list(concept_graph_bad_queries - openmask3d_bad_queries)\n",
    "print(len(only_cg_bad_queries))\n",
    "\n",
    "print(len(openmask3d_bad_queries))\n",
    "print(len(concept_graph_bad_queries))\n",
    "\n",
    "print(only_openmask_bad_queries[:20])"
   ]
  },
  {
   "cell_type": "code",
   "execution_count": 10,
   "metadata": {},
   "outputs": [
    {
     "name": "stdout",
     "output_type": "stream",
     "text": [
      "1710\n",
      "1408\n"
     ]
    }
   ],
   "source": [
    "# get number of -1 ranks for all the data in ranks\n",
    "openmask3d_total_bad = 0\n",
    "for scene_id, query_data in openmask3d_ranks.items():\n",
    "    for query_id, ranks in query_data.items():\n",
    "        openmask3d_total_bad += sum(r == -1 for r in ranks)\n",
    "\n",
    "cg_total_bad = 0\n",
    "for scene_id, query_data in cg_ranks.items():\n",
    "    for query_id, ranks in query_data.items():\n",
    "        cg_total_bad += sum(r == -1 for r in ranks)\n",
    "\n",
    "print(openmask3d_total_bad)\n",
    "print(cg_total_bad)"
   ]
  },
  {
   "cell_type": "markdown",
   "metadata": {},
   "source": [
    "### Bare Check"
   ]
  },
  {
   "cell_type": "code",
   "execution_count": 11,
   "metadata": {},
   "outputs": [],
   "source": [
    "bare_matches_path = \"/home/kumaraditya/openlex3d/query_experiments_overnight/viz/replica/room0/bare_global_0.01_top_k_0.5_20\"\n",
    "bare_ranks_path = \"/home/kumaraditya/openlex3d/query_experiments_overnight/rank_metric/replica/bare_global_0.01_20_0.25\"\n",
    "\n",
    "bare_matches_path = Path(bare_matches_path)\n",
    "bare_ranks_path = Path(bare_ranks_path)\n",
    "\n",
    "bare_matches = pickle.load(open(bare_matches_path / \"matches.pkl\", \"rb\"))\n",
    "bare_ranks = pickle.load(open(bare_ranks_path / \"query_ranks.pkl\", \"rb\"))"
   ]
  },
  {
   "cell_type": "code",
   "execution_count": 25,
   "metadata": {},
   "outputs": [
    {
     "name": "stdout",
     "output_type": "stream",
     "text": [
      "33\n"
     ]
    }
   ],
   "source": [
    "bare_bad_queries = []\n",
    "for scene_id, query_data in bare_ranks.items():\n",
    "    if scene_id != scene:\n",
    "        continue\n",
    "    for query_id, ranks in query_data.items():\n",
    "        if query_id.split(\"_\")[0] == \"level1\":\n",
    "            continue\n",
    "        if all(r == -1 for r in ranks):\n",
    "            query_text = query_id.split(\"_\")[1]\n",
    "            bare_bad_queries.append(query_text)\n",
    "\n",
    "bare_bad_queries = set(bare_bad_queries)\n",
    "\n",
    "only_bare_bad_queries = list(\n",
    "    bare_bad_queries - concept_graph_bad_queries - openmask3d_bad_queries\n",
    ")\n",
    "print(len(only_bare_bad_queries))"
   ]
  },
  {
   "cell_type": "code",
   "execution_count": 26,
   "metadata": {},
   "outputs": [
    {
     "name": "stdout",
     "output_type": "stream",
     "text": [
      "['painting', 'photograph', 'bud vase', 'armchair', 'printed canvas', 'window pane', 'seat', 'mirror', 'wall mounted mirror', 'door', 'glass vase', 'decorative branches', 'decorative mirror', 'canvas', 'bouquet', 'divan', 'ceiling light', 'hardcover', 'wall mirror', 'wall art']\n"
     ]
    }
   ],
   "source": [
    "print(only_bare_bad_queries[:20])"
   ]
  },
  {
   "cell_type": "markdown",
   "metadata": {},
   "source": [
    "## OpenMask3D Masks Check"
   ]
  },
  {
   "cell_type": "code",
   "execution_count": null,
   "metadata": {},
   "outputs": [],
   "source": [
    "openmask3d_masks_path = \"/home/kumaraditya/openmask3d/openmask3d/output/replica/room0/2025-01-30-15-19-26-final-eval-10/room0_mesh_masks.pt\"\n",
    "openmask3d_masks = np.asarray(torch.load(openmask3d_masks_path, weights_only=False)).T\n",
    "openmask3d_masks.shape"
   ]
  }
 ],
 "metadata": {
  "kernelspec": {
   "display_name": "o3d",
   "language": "python",
   "name": "python3"
  },
  "language_info": {
   "codemirror_mode": {
    "name": "ipython",
    "version": 3
   },
   "file_extension": ".py",
   "mimetype": "text/x-python",
   "name": "python",
   "nbconvert_exporter": "python",
   "pygments_lexer": "ipython3",
   "version": "3.10.15"
  }
 },
 "nbformat": 4,
 "nbformat_minor": 2
}
