{
 "cells": [
  {
   "cell_type": "code",
   "execution_count": null,
   "metadata": {},
   "outputs": [],
   "source": [
    "from pathlib import Path\n",
    "import numpy as np\n",
    "import torch\n",
    "import pickle"
   ]
  },
  {
   "cell_type": "code",
   "execution_count": null,
   "metadata": {},
   "outputs": [],
   "source": [
    "openmask3d_matches_path = \"/home/kumaraditya/openlex3d/query_experiments_perf_debug_overnight/viz/replica/room0/openmask3d_nms_0.5_duplicated_per_mask_0.002_top_k_0.5_10\"\n",
    "cg_matches_path = \"/home/kumaraditya/openlex3d/query_experiments_perf_debug_overnight/viz/replica/room0/concept-graphs_global_0.01_top_k_0.5_10\"\n",
    "openmask3d_ranks_path = \"/home/kumaraditya/openlex3d/query_experiments_perf_debug_overnight/rank_metric/replica/openmask3d_duplicated_per_mask_0.002_10_0.25\"\n",
    "cg_ranks_path = \"/home/kumaraditya/openlex3d/query_experiments_perf_debug_overnight/rank_metric/replica/concept-graphs_global_0.01_10_0.25\""
   ]
  },
  {
   "cell_type": "code",
   "execution_count": null,
   "metadata": {},
   "outputs": [],
   "source": [
    "openmask3d_matches_path = Path(openmask3d_matches_path)\n",
    "cg_matches_path = Path(cg_matches_path)\n",
    "openmask3d_ranks_path = Path(openmask3d_ranks_path)\n",
    "cg_ranks_path = Path(cg_ranks_path)"
   ]
  },
  {
   "cell_type": "code",
   "execution_count": null,
   "metadata": {},
   "outputs": [],
   "source": [
    "openmask3d_matches = pickle.load(open(openmask3d_matches_path / \"matches.pkl\", \"rb\"))\n",
    "cg_matches = pickle.load(open(cg_matches_path / \"matches.pkl\", \"rb\"))\n",
    "openmask3d_ranks = pickle.load(open(openmask3d_ranks_path / \"query_ranks.pkl\", \"rb\"))\n",
    "cg_ranks = pickle.load(open(cg_ranks_path / \"query_ranks.pkl\", \"rb\"))"
   ]
  },
  {
   "cell_type": "code",
   "execution_count": null,
   "metadata": {},
   "outputs": [],
   "source": [
    "def get_pred_ids(matches, target_query):\n",
    "    scene = list(matches.keys())[0]\n",
    "    unique_masks = set()\n",
    "    mask_indices_list = []  # Store all arrays\n",
    "    for pred in matches[scene][\"pred\"][\"object\"]:\n",
    "        query = pred[\"query_id\"].split(\"_\")[1]\n",
    "        if query != target_query:\n",
    "            continue\n",
    "        print(f'{pred[\"pred_id\"]}:{pred[\"rank\"]}')\n",
    "        mask_array = tuple(\n",
    "            sorted(pred[\"mask_indices\"])\n",
    "        )  # Convert to a tuple to make it hashable\n",
    "        mask_indices_list.append(mask_array)\n",
    "        unique_masks.add(mask_array)  # Add to set for uniqueness check\n",
    "    # Count unique arrays\n",
    "    num_unique_masks = len(unique_masks)\n",
    "    # Print results\n",
    "    print(f\"Total mask_indices arrays: {len(mask_indices_list)}\")\n",
    "    print(f\"Unique mask_indices arrays: {num_unique_masks}\")"
   ]
  },
  {
   "cell_type": "code",
   "execution_count": null,
   "metadata": {},
   "outputs": [],
   "source": [
    "get_pred_ids(cg_matches, \"vase\")\n",
    "get_pred_ids(openmask3d_matches, \"vase\")"
   ]
  },
  {
   "cell_type": "markdown",
   "metadata": {},
   "source": [
    "## OpenMask3D Masks Check"
   ]
  },
  {
   "cell_type": "code",
   "execution_count": null,
   "metadata": {},
   "outputs": [],
   "source": [
    "openmask3d_masks_path = \"/home/kumaraditya/openmask3d/openmask3d/output/replica/room0/2025-01-30-15-19-26-final-eval-10/room0_mesh_masks.pt\"\n",
    "openmask3d_masks = np.asarray(torch.load(openmask3d_masks_path, weights_only=False)).T\n",
    "openmask3d_masks.shape"
   ]
  }
 ],
 "metadata": {
  "kernelspec": {
   "display_name": "o3d",
   "language": "python",
   "name": "python3"
  },
  "language_info": {
   "name": "python",
   "version": "3.10.15"
  }
 },
 "nbformat": 4,
 "nbformat_minor": 2
}
